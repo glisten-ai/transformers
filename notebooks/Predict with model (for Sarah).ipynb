{
 "cells": [
  {
   "cell_type": "code",
   "execution_count": 14,
   "metadata": {},
   "outputs": [],
   "source": [
    "import transformers\n",
    "from transformers import (\n",
    "    AutoConfig, BertConfig, BertTokenizer, BertForRetrieval, BertForSequenceClassification)\n",
    "import torch\n",
    "import numpy as np"
   ]
  },
  {
   "cell_type": "code",
   "execution_count": 162,
   "metadata": {},
   "outputs": [],
   "source": [
    "#ckpt_dir = \"/home/transformers-public/output_dirs/sarah-test6/checkpoint-6000\" # Good!\n",
    "ckpt_dir = \"/home/transformers-public/output_dirs/sarah-test7/checkpoint-4000\" # Good!\n",
    "\n",
    "# ckpt_dir = \"../output_dirs/classification_test/checkpoint-4500\""
   ]
  },
  {
   "cell_type": "code",
   "execution_count": 156,
   "metadata": {},
   "outputs": [],
   "source": [
    "config = AutoConfig.from_pretrained(ckpt_dir)\n",
    "tokenizer = BertTokenizer.from_pretrained(\n",
    "    ckpt_dir,\n",
    "    do_lower_case=True,\n",
    ")\n",
    "model = BertForSequenceClassification.from_pretrained(\n",
    "    ckpt_dir,\n",
    "    from_tf=False,\n",
    "    config=config,\n",
    ")"
   ]
  },
  {
   "cell_type": "code",
   "execution_count": 157,
   "metadata": {},
   "outputs": [
    {
     "name": "stdout",
     "output_type": "stream",
     "text": [
      "cuda\n"
     ]
    }
   ],
   "source": [
    "use_gpu = True\n",
    "if use_gpu:\n",
    "    device = torch.device(\"cuda\" if torch.cuda.is_available() else \"cpu\")\n",
    "else:\n",
    "    device = torch.device(\"cpu\")\n",
    "print(device)"
   ]
  },
  {
   "cell_type": "code",
   "execution_count": 158,
   "metadata": {},
   "outputs": [],
   "source": [
    "model = model.to(device)"
   ]
  },
  {
   "cell_type": "code",
   "execution_count": 149,
   "metadata": {},
   "outputs": [],
   "source": [
    "max_seq_length=128\n",
    "test_input = tokenizer.batch_encode_plus(\n",
    "    [(\"test input\", None)],\n",
    "    max_length=max_seq_length,\n",
    "    pad_to_max_length=True,\n",
    ")"
   ]
  },
  {
   "cell_type": "code",
   "execution_count": 124,
   "metadata": {},
   "outputs": [],
   "source": [
    "model_inp = dict(test_input)\n",
    "model_inp['labels'] = [0]\n",
    "# print(model_inp)\n",
    "model_inp = {k: torch.tensor(v).to(device) for k, v in model_inp.items()}\n",
    "model_out = model(**model_inp)"
   ]
  },
  {
   "cell_type": "code",
   "execution_count": 125,
   "metadata": {},
   "outputs": [
    {
     "data": {
      "text/plain": [
       "3"
      ]
     },
     "execution_count": 125,
     "metadata": {},
     "output_type": "execute_result"
    }
   ],
   "source": [
    "len(model_out)"
   ]
  },
  {
   "cell_type": "code",
   "execution_count": 35,
   "metadata": {},
   "outputs": [
    {
     "name": "stdout",
     "output_type": "stream",
     "text": [
      "[torch.Size([]), torch.Size([1, 2]), torch.Size([1, 768])]\n"
     ]
    }
   ],
   "source": [
    "print([x.shape for x in model_out])  # loss, logits, pooled_output (i.e. encoding)"
   ]
  },
  {
   "cell_type": "code",
   "execution_count": 36,
   "metadata": {},
   "outputs": [],
   "source": [
    "predicted_logits = model_out[1].detach().cpu().numpy()\n",
    "predicted_class = np.argmax(predicted_logits)"
   ]
  },
  {
   "cell_type": "code",
   "execution_count": 37,
   "metadata": {},
   "outputs": [
    {
     "name": "stdout",
     "output_type": "stream",
     "text": [
      "[[ 0.43291587 -0.18428318]]\n"
     ]
    }
   ],
   "source": [
    "print(predicted_logits)"
   ]
  },
  {
   "cell_type": "code",
   "execution_count": 26,
   "metadata": {},
   "outputs": [
    {
     "name": "stdout",
     "output_type": "stream",
     "text": [
      "1\n"
     ]
    }
   ],
   "source": [
    "print(predicted_class)"
   ]
  },
  {
   "cell_type": "markdown",
   "metadata": {},
   "source": [
    "# Run on Doordash Data"
   ]
  },
  {
   "cell_type": "code",
   "execution_count": 73,
   "metadata": {},
   "outputs": [],
   "source": [
    "import csv\n",
    "\n",
    "dataset = []\n",
    "with open(\"doordash_healthy.csv\", newline='',encoding = \"utf-8\") as csvfile:\n",
    "    reader = csv.DictReader(csvfile)\n",
    "    for row in reader:\n",
    "        dataset.append({\n",
    "            'title': row['title'],\n",
    "            'description': row['description'],\n",
    "        })\n",
    "        \n"
   ]
  },
  {
   "cell_type": "code",
   "execution_count": 159,
   "metadata": {},
   "outputs": [
    {
     "name": "stdout",
     "output_type": "stream",
     "text": [
      "mcveggie burger (2010 kj.)\n",
      "ensalada de papa potato salad.\n",
      "fresh guacamole dip fresh and buttery avocados, cilantro, jalapeños, onions, lime juice and special spices.\n",
      "vegetarian mapo tofu hot and spicy.\n",
      "fusilli alfredo vegetarian. with parmesan cream sauce. 750 cal.\n",
      "pita & dip fresh made pita chips comes with a choice of humus\n",
      "colombian empanadas vegetarian, cheese. colombian empanadas.\n",
      "garlic mashed potatoes add \n",
      "szechuan tofu lettuce wraps (v) crispy szechuan tofu, peanuts, wontons, korean chili sauce, spicy yogurt. note: spicy yogurt contains egg and dairy, wontons contain egg.\n",
      "\n",
      "dietary info: vegetarian\n",
      "vegetarian b one bean tostada, one cheese enchilada,  served with rice and refried beans.\n",
      "snow peas with water chestnut \n",
      "black bean patty - super 910 cal.\n",
      "peaches ‘n silk gluten-friendly. vegetarian. peaches, strawberries & banana.\n",
      "black bean burrito a large flour tortilla filled with our homemade black beans, mexican rice, salsa fresca and cheeses. served with a cafe salad.\n",
      "3. sautéed green beans \n",
      "jalapeños toreados jalapeño, onions and lemon.\n",
      "torta helada vegetarian.\n",
      "queso fresco con jalapeño (fresh cheese with jalapeño) \n",
      "cheesy garlic mini pita 1,260kj\n",
      "cajun tater tots vegetarian\n",
      "veggie platter vegetarian. choose three of your favorite side dishes.\n",
      "lg  potato waffers® skin-on potato fries with a unique criss cut shape. 570 cal.\n",
      "rajmah kidney beans cooked in onions,ginger & garlic with spices.\n",
      "spinach and cheese vegetarian - sauteed spinach, seasoned with fresh herbs, thyme, oregano, basil, with asigo, parmesan, and mozarella cheese\n",
      "the avocado (super wich) fresh avocado. 790 cal.\n",
      "beer-battered onion rings - basket dunked in beer batter then fried to a golden crisp, these thick-cut onion rings are served with a side of our southwestern ranch.\n",
      "cucumber cut roll 8pcs.\n",
      "potato cakes (3 ea.) shredded potato fried to a crispy golden brown. it's a cake of potato. visit arbys.com for nutritional and allergen information.\n",
      "vegan caesar chopped romaine, smoked tofu dressing, crispy capers, fried nori, sourdough croutons, nutritional yeast  v\n",
      "fajitas de vegetales a sizzling hot bed of sautéed onions, red and green peppers, broccoli, cauliflower, zucchini, carrots and mushrooms. served with sour cream, guacamole, rice, beans and tortillas.\n",
      "onion chilli dosa ...crepe made with fermented rice & lentils topped with chopped onions and chillies, served with sambar & chutneys (vegan/vegetarian, gluten free)\n",
      "avocado salsa 4 oz.\n",
      "crispy okra okra, fresh onion, and tomatoes, mango powder.\n",
      "paneer roll cottage cheese slivered and cooked in mild seasonings\n",
      "italian broccoli romano $4 per person \n",
      "broccoli with garlic & a light touch of crushed red pepper & parmesan cheese \n",
      "{sp, vt, gf}\n",
      "the avocado (regular wich) fresh avocado. 400 cal.\n",
      "veggie crepe a large single crepe filled with fresh broccoli, tomatoes, mushrooms and spinach. topped with our rich hollandaise sauce and served with a side of hash browns. 1330 cal.\n",
      "the big chicken fillet sandwich combo a crispy chicken fillet dusted with southern spices, topped with lettuce, tomato, and mayonnaise on a premium bun.\n",
      "lettuce wrap choice of shrimp, chicken or tofu. fresh water chestnuts and lettuce for wrapping. served with spicy sweet and sour sauce.\n",
      "egg roll (2 pc) \n",
      "big chicken fillet sandwich a crispy chicken fillet topped with lettuce, tomato, and mayonnaise on a premium bun.\n",
      "vegetable fried rice only 970 calories.\n",
      "bacon cheddar grilled chicken sandwich our grilled chicken breast is topped with two strips of applewood-smoked bacon and cheddar, then finished with tangy house-made bbq ranch, crisp lettuce, tomato, onion and pickles on a brioche bun.\n",
      "veal parmesan sandwich served on bun with fries.\n",
      "turkeywich - salad turkey, coleslaw + 1000 island. 220 cal.\n",
      "green beans with ham \n",
      "asian grilled chicken salad \n",
      "nachos with shredded chicken \n",
      "japanese green tea sugar free green tea.\n",
      "little moo meal - grilled cheese melted american cheese on potato bun with your choice of side and drink\n",
      "egg breakfast sandwich three eggs, lettuce, tomato, mayo and your choice of bread.\n",
      "cheese steak sandwich cheese steak w/with fried onions and melted cheese on hoagie roll\n",
      "1. spring roll (2 pcs.) \n",
      "mt. fuji roll deep-fried shrimp, snow crab roll with scallop, avocado, and special sauce.\n",
      "sour cream chicken enchiladas three chicken enchiladas topped with sour cream sauce, served with rice and refried beans or charro beans.\n",
      "chopped chicken hardwood charcoal smoked chicken thighs lightly sauced and then hand chopped.\n",
      "egg roll (3 pieces) \n",
      "loaded house salad fresh greens, avocado, applewood smoked bacon, tomatoes, mushrooms, fried onion strings\n",
      "chicken tender sub crispy chicken tenders topped with bacon and cheddar cheese.\n",
      "gourmet grilled cheese gruyere, aslago, aged cheddar, parmesan, sourdough.\n",
      "whole chicken with 1 side whole chicken and 1 large side\n",
      "chicken buddy burger® kids' pack 710 cal.\n",
      "the big chicken fillet sandwich a crispy chicken fillet dusted with southern spices, topped with lettuce, tomato, and mayonnaise on a premium bun.\n",
      "salmon (6 pieces) \n",
      "kid's fried rice fried rice with your choice of chicken or pork.\n",
      "chicken bbq sandwich \n",
      "egg sandwich with ham \n",
      "shrimp scampi and herb crusted salmon \n",
      "matcha green tea blast® soymilk, fat free vanilla frozen yogurt, matcha green tea.\n",
      "\n",
      "cals: 270 • 410 • 500\n",
      "\n",
      "(contains: milk, soy)\n",
      "island chicken quesadilla roasted pineapple salsa, cilantro, queso blanco, and a smoked cheese blend all on a flour tortilla. served with roasted salsa verde.\n",
      "the carrot cake bowl (16 oz) organic acai blended with organic banana, organic carrot juice, organic maple syrup, organic almond butter, organic vanilla and organic cinnamon - topped with organic granola, organic chopped dates and organic cinnamon. 430 cal.\n",
      "chicken fried southern slaw, brioche.\n"
     ]
    }
   ],
   "source": [
    "labels = ['healthy', 'unhealthy']\n",
    "\n",
    "counts = [0, 0]\n",
    "for p in dataset:\n",
    "    text = p['title'].lower() + ' ' + p['description'].lower()\n",
    "    test_input = tokenizer.batch_encode_plus(\n",
    "        [(text, None)],\n",
    "        max_length=max_seq_length,\n",
    "        pad_to_max_length=True,\n",
    "    )\n",
    "    \n",
    "    model_inp = dict(test_input)\n",
    "    model_inp['labels'] = [0]\n",
    "    model_inp = {k: torch.tensor(v).to(device) for k, v in model_inp.items()}\n",
    "    model_out = model(**model_inp)\n",
    "\n",
    "    predicted_logits = model_out[1].detach().cpu().numpy()\n",
    "    predicted_class = np.argmax(predicted_logits)\n",
    "    \n",
    "    if labels[predicted_class] == 'unhealthy':\n",
    "        print(text)\n",
    "    \n",
    "    #print(labels[predicted_class], predicted_logits)\n",
    "    counts[predicted_class] += 1\n",
    "    #print()\n"
   ]
  },
  {
   "cell_type": "code",
   "execution_count": 160,
   "metadata": {},
   "outputs": [
    {
     "data": {
      "text/plain": [
       "[430, 72]"
      ]
     },
     "execution_count": 160,
     "metadata": {},
     "output_type": "execute_result"
    }
   ],
   "source": [
    "counts"
   ]
  },
  {
   "cell_type": "markdown",
   "metadata": {},
   "source": [
    "# Sanity Check "
   ]
  },
  {
   "cell_type": "code",
   "execution_count": 161,
   "metadata": {},
   "outputs": [
    {
     "name": "stdout",
     "output_type": "stream",
     "text": [
      "chocolate ice cream\n",
      "unhealthy [[-0.19751902  0.04265981]]\n",
      "\n",
      "big mac\n",
      "unhealthy [[-3.4547448  2.9443698]]\n",
      "\n",
      "coca cola\n",
      "unhealthy [[-0.34153998  0.14552867]]\n",
      "\n",
      "fried oreos\n",
      "healthy [[ 0.16661696 -0.10494222]]\n",
      "\n",
      "salad\n",
      "healthy [[ 0.3661355 -0.3513371]]\n",
      "\n",
      "ramen\n",
      "healthy [[ 0.5504143 -0.380982 ]]\n",
      "\n",
      "beer\n",
      "healthy [[ 0.1510079  -0.09273873]]\n",
      "\n",
      "gyro sandwich\n",
      "healthy [[ 0.21280293 -0.07180934]]\n",
      "\n"
     ]
    }
   ],
   "source": [
    "labels = ['healthy', 'unhealthy']\n",
    "\n",
    "samples = [\n",
    "    \"chocolate ice cream\",\n",
    "    \"big mac\", \n",
    "    \"coca cola\", \n",
    "    \"fried oreos\", \n",
    "    \"salad\", \n",
    "    \"ramen\",\n",
    "    \"beer\", \n",
    "    \"gyro sandwich\",\n",
    "]\n",
    "\n",
    "for text in samples:\n",
    "\n",
    "    test_input = tokenizer.batch_encode_plus(\n",
    "        [(text, None)],\n",
    "        max_length=max_seq_length,\n",
    "        pad_to_max_length=True,\n",
    "    )\n",
    "    \n",
    "    model_inp = dict(test_input)\n",
    "    model_inp['labels'] = [0]\n",
    "    model_inp = {k: torch.tensor(v).to(device) for k, v in model_inp.items()}\n",
    "    model_out = model(**model_inp)\n",
    "\n",
    "    predicted_logits = model_out[1].detach().cpu().numpy()\n",
    "    predicted_class = np.argmax(predicted_logits)\n",
    "    \n",
    "    print(text)\n",
    "    print(labels[predicted_class], predicted_logits)\n",
    "    print()"
   ]
  },
  {
   "cell_type": "code",
   "execution_count": null,
   "metadata": {},
   "outputs": [],
   "source": []
  },
  {
   "cell_type": "code",
   "execution_count": null,
   "metadata": {},
   "outputs": [],
   "source": []
  }
 ],
 "metadata": {
  "kernelspec": {
   "display_name": "glisten",
   "language": "python",
   "name": "glisten"
  },
  "language_info": {
   "codemirror_mode": {
    "name": "ipython",
    "version": 3
   },
   "file_extension": ".py",
   "mimetype": "text/x-python",
   "name": "python",
   "nbconvert_exporter": "python",
   "pygments_lexer": "ipython3",
   "version": "3.7.7"
  }
 },
 "nbformat": 4,
 "nbformat_minor": 4
}
