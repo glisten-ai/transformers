{
 "cells": [
  {
   "cell_type": "code",
<<<<<<< HEAD
   "execution_count": 18,
=======
   "execution_count": 3,
>>>>>>> 084bc075ce1081c2ee1007529a077423ba451bb8
   "metadata": {},
   "outputs": [
    {
     "name": "stderr",
     "output_type": "stream",
     "text": [
      "\u001b[34m\u001b[1mwandb\u001b[0m: \u001b[33mWARNING\u001b[0m W&B installed but not logged in.  Run `wandb login` or set the WANDB_API_KEY env variable.\n"
     ]
    }
   ],
   "source": [
    "import transformers\n",
    "from transformers import (\n",
    "    AutoConfig, BertConfig, BertTokenizer, BertForRetrieval, BertForSequenceClassification)\n",
    "import torch\n",
    "import numpy as np"
   ]
  },
  {
   "cell_type": "code",
<<<<<<< HEAD
   "execution_count": 19,
   "metadata": {},
   "outputs": [
    {
     "name": "stdout",
     "output_type": "stream",
     "text": [
      "2.11.0\n"
     ]
    }
   ],
   "source": [
    "torch.cuda.is_available()\n",
    "print(transformers.__version__)"
   ]
  },
  {
   "cell_type": "code",
   "execution_count": 13,
   "metadata": {},
   "outputs": [],
   "source": [
    "config = AutoConfig.from_pretrained(\n",
    "    \"/home/transformers-public/output_dirs/classification_test/checkpoint-4500\",\n",
    ")\n",
    "tokenizer = BertTokenizer.from_pretrained(\n",
    "    \"/home/transformers-public/output_dirs/classification_test/checkpoint-4500\",\n",
    "    do_lower_case=True,\n",
    ")\n",
    "model = BertForSequenceClassification.from_pretrained(\n",
    "    \"/home/transformers-public/output_dirs/classification_test/checkpoint-4500\",\n",
=======
   "execution_count": 4,
   "metadata": {},
   "outputs": [],
   "source": [
    "ckpt_dir = \"/home/transformers-public/output_dirs/classification_test/checkpoint-4500\"\n",
    "# ckpt_dir = \"../output_dirs/classification_test/checkpoint-4500\""
   ]
  },
  {
   "cell_type": "code",
   "execution_count": 5,
   "metadata": {},
   "outputs": [],
   "source": [
    "config = AutoConfig.from_pretrained(ckpt_dir)\n",
    "tokenizer = BertTokenizer.from_pretrained(\n",
    "    ckpt_dir,\n",
    "    do_lower_case=True,\n",
    ")\n",
    "model = BertForSequenceClassification.from_pretrained(\n",
    "    ckpt_dir,\n",
>>>>>>> 084bc075ce1081c2ee1007529a077423ba451bb8
    "    from_tf=False,\n",
    "    config=config,\n",
    ")"
   ]
  },
  {
   "cell_type": "code",
<<<<<<< HEAD
   "execution_count": 4,
=======
   "execution_count": 20,
>>>>>>> 084bc075ce1081c2ee1007529a077423ba451bb8
   "metadata": {},
   "outputs": [
    {
     "name": "stdout",
     "output_type": "stream",
     "text": [
      "cpu\n"
     ]
    }
   ],
   "source": [
    "use_gpu = False\n",
    "if use_gpu:\n",
    "    device = torch.device(\"cuda\" if torch.cuda.is_available() else \"cpu\")\n",
    "else:\n",
    "    device = torch.device(\"cpu\")\n",
    "print(device)"
   ]
  },
  {
   "cell_type": "code",
<<<<<<< HEAD
   "execution_count": 14,
   "metadata": {},
   "outputs": [
    {
     "name": "stderr",
     "output_type": "stream",
     "text": [
      "/home/sarahwooders_gmail_com/transformers/glisten/lib/python3.7/site-packages/torch/storage.py:34: FutureWarning: pickle support for Storage will be removed in 1.5. Use `torch.save` instead\n",
      "  warnings.warn(\"pickle support for Storage will be removed in 1.5. Use `torch.save` instead\", FutureWarning)\n"
     ]
    }
   ],
   "source": [
    "import pickle\n",
    "pickle.dump(model, open(\"model.pkl\", \"wb\"))"
   ]
  },
  {
   "cell_type": "code",
   "execution_count": 5,
=======
   "execution_count": 10,
>>>>>>> 084bc075ce1081c2ee1007529a077423ba451bb8
   "metadata": {},
   "outputs": [],
   "source": [
    "model = model.to(device)"
   ]
  },
  {
   "cell_type": "code",
<<<<<<< HEAD
   "execution_count": 6,
=======
   "execution_count": 11,
>>>>>>> 084bc075ce1081c2ee1007529a077423ba451bb8
   "metadata": {},
   "outputs": [],
   "source": [
    "max_seq_length=128\n",
    "test_input = tokenizer.batch_encode_plus(\n",
    "    [(\"test input\", None)],\n",
    "    max_length=max_seq_length,\n",
    "    pad_to_max_length=True,\n",
    ")"
   ]
  },
  {
   "cell_type": "code",
   "execution_count": 7,
   "metadata": {},
   "outputs": [],
   "source": [
    "model_inp = dict(test_input)\n",
    "model_inp['labels'] = [0]\n",
    "# print(model_inp)\n",
    "model_inp = {k: torch.tensor(v).to(device) for k, v in model_inp.items()}\n",
    "model_out = model(**model_inp)"
   ]
  },
  {
   "cell_type": "code",
   "execution_count": 8,
   "metadata": {},
   "outputs": [
    {
     "data": {
      "text/plain": [
       "3"
      ]
     },
     "execution_count": 8,
     "metadata": {},
     "output_type": "execute_result"
    }
   ],
   "source": [
    "len(model_out)"
   ]
  },
  {
   "cell_type": "code",
   "execution_count": 9,
   "metadata": {},
   "outputs": [
    {
     "name": "stdout",
     "output_type": "stream",
     "text": [
      "[torch.Size([]), torch.Size([1, 30]), torch.Size([1, 768])]\n"
     ]
    }
   ],
   "source": [
    "print([x.shape for x in model_out])  # loss, logits, pooled_output (i.e. encoding)"
   ]
  },
  {
   "cell_type": "code",
<<<<<<< HEAD
   "execution_count": 10,
=======
   "execution_count": 15,
>>>>>>> 084bc075ce1081c2ee1007529a077423ba451bb8
   "metadata": {},
   "outputs": [],
   "source": [
    "predicted_logits = model_out[1].detach().cpu().numpy()\n",
    "predicted_class = np.argmax(predicted_logits)"
   ]
  },
  {
   "cell_type": "code",
<<<<<<< HEAD
   "execution_count": 11,
=======
   "execution_count": 16,
>>>>>>> 084bc075ce1081c2ee1007529a077423ba451bb8
   "metadata": {},
   "outputs": [
    {
     "name": "stdout",
     "output_type": "stream",
     "text": [
      "[[-1.3015643   2.019937    2.3875947  -4.169917   -1.4164282  -4.2287807\n",
      "  -1.8702357   0.35857603 -2.7242658  -2.6567934  -1.8068227  -2.017031\n",
      "  -1.5032881  -2.942142    0.22073309 -0.82663375 -2.202315    0.8912497\n",
      "   2.5810022   0.01150044  0.6968271  -0.89142245  0.89638424 -0.4870008\n",
      "   2.7677815  -2.8281648  -2.5763004  -0.8343036   0.36374706 -0.04874416]]\n"
     ]
    }
   ],
   "source": [
    "print(predicted_logits)"
   ]
  },
  {
   "cell_type": "code",
<<<<<<< HEAD
   "execution_count": 12,
=======
   "execution_count": 17,
>>>>>>> 084bc075ce1081c2ee1007529a077423ba451bb8
   "metadata": {},
   "outputs": [
    {
     "name": "stdout",
     "output_type": "stream",
     "text": [
      "24\n"
     ]
    }
   ],
   "source": [
    "print(predicted_class)"
   ]
  },
  {
   "cell_type": "code",
   "execution_count": null,
   "metadata": {},
   "outputs": [],
   "source": []
  }
 ],
 "metadata": {
  "kernelspec": {
   "display_name": "glisten",
   "language": "python",
   "name": "glisten"
  },
  "language_info": {
   "codemirror_mode": {
    "name": "ipython",
    "version": 3
   },
   "file_extension": ".py",
   "mimetype": "text/x-python",
   "name": "python",
   "nbconvert_exporter": "python",
   "pygments_lexer": "ipython3",
   "version": "3.7.7"
  }
 },
 "nbformat": 4,
 "nbformat_minor": 4
}
