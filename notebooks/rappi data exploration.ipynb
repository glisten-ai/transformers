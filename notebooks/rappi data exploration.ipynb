{
 "cells": [
  {
   "cell_type": "code",
   "execution_count": 1,
   "metadata": {},
   "outputs": [],
   "source": [
    "import pickle"
   ]
  },
  {
   "cell_type": "code",
   "execution_count": 2,
   "metadata": {},
   "outputs": [],
   "source": [
    "instacart = pickle.load(open('/home/instacart_data_all.pkl', 'rb'))"
   ]
  },
  {
   "cell_type": "code",
   "execution_count": 3,
   "metadata": {},
   "outputs": [
    {
     "data": {
      "text/plain": [
       "326815"
      ]
     },
     "execution_count": 3,
     "metadata": {},
     "output_type": "execute_result"
    }
   ],
   "source": [
    "len(instacart)"
   ]
  },
  {
   "cell_type": "code",
   "execution_count": 7,
   "metadata": {},
   "outputs": [
    {
     "data": {
      "text/plain": [
       "{'category': ['beer', 'import beer'],\n",
       " 'original_category': 'Home > Publix > Beer > Import Beer',\n",
       " 'seller': 'Publix',\n",
       " 'title': 'Heineken Lager Beer (12 fl oz) from Publix - Instacart',\n",
       " 'description': 'Heineken is a full-bodied premium lager with deep golden color, light fruity aroma, a mild bitter taste and a balanced hop aroma leaving a crisp, clean finish for ultimate refreshing taste.',\n",
       " 'ingredients': 'Water, Malted Barley, Hops.'}"
      ]
     },
     "execution_count": 7,
     "metadata": {},
     "output_type": "execute_result"
    }
   ],
   "source": [
    "instacart[19]"
   ]
  },
  {
   "cell_type": "code",
   "execution_count": 4,
   "metadata": {},
   "outputs": [
    {
     "data": {
      "text/plain": [
       "dict_keys(['category', 'original_category', 'seller', 'title', 'description', 'ingredients'])"
      ]
     },
     "execution_count": 4,
     "metadata": {},
     "output_type": "execute_result"
    }
   ],
   "source": [
    "instacart[0].keys()"
   ]
  },
  {
   "cell_type": "code",
   "execution_count": 4,
   "metadata": {},
   "outputs": [],
   "source": [
    "google = pickle.load(open('/home/google_data_all.pkl', 'rb'))"
   ]
  },
  {
   "cell_type": "code",
   "execution_count": 5,
   "metadata": {},
   "outputs": [
    {
     "data": {
      "text/plain": [
       "1797615"
      ]
     },
     "execution_count": 5,
     "metadata": {},
     "output_type": "execute_result"
    }
   ],
   "source": [
    "len(google)"
   ]
  },
  {
   "cell_type": "code",
   "execution_count": 11,
   "metadata": {},
   "outputs": [
    {
     "data": {
      "text/plain": [
       "{'category': ['pet supplies', 'fish aquarium supplies'],\n",
       " 'seller': 'Chewy.com',\n",
       " 'title': 'Fluval Edge Pre-Filter Sponge - 1 count',\n",
       " 'description': 'The pre-filter sponge (for the Fluval Edge) effectively collects fine debris and keeps your aquarium clean.'}"
      ]
     },
     "execution_count": 11,
     "metadata": {},
     "output_type": "execute_result"
    }
   ],
   "source": [
    "google[19]"
   ]
  },
  {
   "cell_type": "code",
   "execution_count": null,
   "metadata": {},
   "outputs": [],
   "source": [
    "Plan\n",
    "\n",
    "\n",
    "train: \n",
    "title + description < > instacart / google category\n",
    "iter 2:\n",
    "title + description < > mapping_to_rappi(instacart/google categories)\n",
    "idea 3:\n",
    "rappi title + description < > rappi labeled data (30k)\n",
    "\n",
    "test time:\n",
    "rappi title + description <> argmax distance ( rappi categories )\n",
    "\n",
    "\n",
    "Given:\n",
    "    item_encodings: (10, 728)\n",
    "    label_encodings: (100, 728)"
   ]
  }
 ],
 "metadata": {
  "kernelspec": {
   "display_name": "transformers",
   "language": "python",
   "name": "transformers"
  },
  "language_info": {
   "codemirror_mode": {
    "name": "ipython",
    "version": 3
   },
   "file_extension": ".py",
   "mimetype": "text/x-python",
   "name": "python",
   "nbconvert_exporter": "python",
   "pygments_lexer": "ipython3",
   "version": "3.7.7"
  }
 },
 "nbformat": 4,
 "nbformat_minor": 4
}
